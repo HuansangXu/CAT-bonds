{
 "cells": [
  {
   "cell_type": "code",
   "execution_count": 2,
   "id": "fbeb9b4a-324f-45bc-830f-aba080c7a961",
   "metadata": {},
   "outputs": [],
   "source": [
    "import numpy as np\n",
    "import matplotlib.pyplot as plt\n",
    "import scipy.stats as ss\n",
    "import tensorflow as tf\n",
    "import time\n",
    "\n",
    "from scipy.stats import gamma\n",
    "from scipy.stats import lognorm\n",
    "from scipy.interpolate import interp1d\n",
    "from scipy.stats import gaussian_kde"
   ]
  },
  {
   "cell_type": "code",
   "execution_count": 3,
   "id": "edea99c9",
   "metadata": {},
   "outputs": [],
   "source": [
    "# Price for zero-coupon bond with stochastic interest rate under Vasicek's model\n",
    "def ZC_Vasicek(F, r, kappa, theta, sigma, t, T):\n",
    "    \n",
    "    delta_T = T - t\n",
    "    \n",
    "    B = (1 - np.exp(-kappa * delta_T)) / kappa\n",
    "    \n",
    "    A = np.exp((theta - (sigma**2) / (2 * kappa**2)) * (B - delta_T) - (sigma**2 / (4 * kappa)) * B**2)\n",
    "    \n",
    "    bond_price = F * A * np.exp(-B * r)\n",
    "    \n",
    "    return bond_price"
   ]
  },
  {
   "cell_type": "code",
   "execution_count": 231,
   "id": "49ef4a56-3af0-4b62-92d5-e6800922e346",
   "metadata": {},
   "outputs": [
    {
     "name": "stdout",
     "output_type": "stream",
     "text": [
      "Probability of no default: 0.0292\n",
      "0.9800503146138161\n"
     ]
    },
    {
     "data": {
      "image/png": "[encoded data removed]",
      "text/plain": [
       "<Figure size 640x480 with 1 Axes>"
      ]
     },
     "metadata": {},
     "output_type": "display_data"
    }
   ],
   "source": [
    "# Parameters\n",
    "T = 2.0             # Final time\n",
    "D = 9e9             # Default threshold\n",
    "lam = 35       # Constant intensity\n",
    "\n",
    "NT, NL, Nx = 200, 1000, 10000  # Time and space steps\n",
    "dL = D / NL\n",
    "dt = T / NT\n",
    "\n",
    "L_grid = np.linspace(0, D, NL + 1)\n",
    "t_grid = np.linspace(0, T, NT + 1)\n",
    "\n",
    "# Gamma distribution parameters\n",
    "k = 1\n",
    "th = 1.635e8\n",
    "\n",
    "\n",
    "# === Initialize V(L, t) ===\n",
    "V = np.zeros((NL + 1, NT + 1))\n",
    "V[:, -1] = 0.0\n",
    "\n",
    "#Jump size distribution\n",
    "f = lambda l: gamma.pdf(l, a=k, scale=th)\n",
    "F = lambda l: gamma.cdf(l, a=k, scale=th)\n",
    "\n",
    "# === Backward time stepping ===\n",
    "for n in reversed(range(NT)):\n",
    "    t = t_grid[n]\n",
    "    \n",
    "    for i, L in enumerate(L_grid):\n",
    "\n",
    "        if L > D:\n",
    "            V[i, n] = 0.0\n",
    "            continue\n",
    "\n",
    "        # === Term 1 ===\n",
    "        term1 = lam * V[i, n + 1]\n",
    "\n",
    "        # === Term 2: jump leads to default ===\n",
    "        safe_margin = D - L\n",
    "        term2 = -lam * (1 - F(safe_margin))\n",
    "\n",
    "        # Term 3: expected contribution from non-default jumps\n",
    "        l_vals = np.linspace(0, safe_margin, Nx)\n",
    "        dx = safe_margin / Nx\n",
    "        V_interp = np.interp(L + l_vals, L_grid, V[:, n + 1], left=0.0, right=0.0)\n",
    "        integrand = np.sum(V_interp * f(l_vals)) * dx\n",
    "        term3 = -lam * integrand\n",
    "\n",
    "        dVdt = term1 + term2 + term3\n",
    "        V[i, n] = V[i, n+1] - dt * dVdt\n",
    "        V[i, n] = np.clip(V[i, n], 0.0, 1.0)\n",
    "\n",
    "\n",
    "prob_no_default = gamma.cdf(D, a=lam*T*k, scale=th)\n",
    "print(f\"Probability of no default: {prob_no_default:.4f}\")\n",
    "\n",
    "print(V[0,0])\n",
    "\n",
    "# Plot V(L, 0)\n",
    "plt.plot(L_grid, V[:, 0], label='V(L, 0)')\n",
    "plt.xlabel('L')\n",
    "plt.ylabel('V(L, 0)')\n",
    "plt.title('Solution of the PIDE at t=0')\n",
    "plt.grid()\n",
    "plt.legend()\n",
    "plt.show()"
   ]
  },
  {
   "cell_type": "code",
   "execution_count": 151,
   "id": "d588c443-b445-4c71-8091-5fb241a62c63",
   "metadata": {},
   "outputs": [],
   "source": [
    "def solve_pide(D, lam, NT, NL, Nx, k, th, T):\n",
    "    dL = D / NL\n",
    "    dT = T / NT\n",
    "\n",
    "    L_grid = np.linspace(0, D, NL + 1)\n",
    "    t_grid = np.linspace(0, T, NT + 1)\n",
    "\n",
    "    # Initialize V(L, t)\n",
    "    V = np.zeros((NL + 1, NT + 1))\n",
    "    V[:, -1] = 0.0\n",
    "\n",
    "    # Jump size distribution\n",
    "    f = lambda l: gamma.pdf(l, a=k, scale=th)\n",
    "    F = lambda l: gamma.cdf(l, a=k, scale=th)\n",
    "\n",
    "    # Backward time stepping\n",
    "    for n in reversed(range(NT)):\n",
    "        for i, L in enumerate(L_grid):\n",
    "\n",
    "            if L >= D:\n",
    "                V[i, n] = 0.0\n",
    "                continue\n",
    "\n",
    "            # Term 1: continuation\n",
    "            term1 = lam * V[i, n + 1]\n",
    "\n",
    "            # Term 2: jump causes default\n",
    "            safe_margin = D - L\n",
    "            term2 = -lam * (1 - F(safe_margin))\n",
    "\n",
    "            # Term 3: expected continuation value of non-default jumps\n",
    "            l_vals = np.linspace(0, safe_margin, Nx)\n",
    "            dx = safe_margin / Nx\n",
    "            V_interp = np.interp(L + l_vals, L_grid, V[:, n + 1], left=0.0, right=0.0)\n",
    "            integrand = np.sum(V_interp * f(l_vals)) * dx\n",
    "            term3 = -lam * integrand\n",
    "\n",
    "            dVdT = term1 + term2 + term3\n",
    "            V[i, n] = V[i, n + 1] - dT * dVdT\n",
    "            V[i, n] = np.clip(V[i, n], 0.0, 1.0)\n",
    "\n",
    "    return V[0,0]\n"
   ]
  },
  {
   "cell_type": "code",
   "execution_count": 153,
   "id": "7d7d53f7",
   "metadata": {},
   "outputs": [],
   "source": [
    "# Zero-coupon CAT bond pricing under IS\n",
    "def CAT_ZC_PIDE(D, lam, T):\n",
    "    return ZC_Vasicek(F, r, kappa, theta, sigma, t, T)*(1-solve_pide(D, lam, NT, NL, Nx, k, th, T))"
   ]
  },
  {
   "cell_type": "code",
   "execution_count": 155,
   "id": "31c61977",
   "metadata": {},
   "outputs": [],
   "source": [
    "# CAT bond with coupons pricing\n",
    "def CAT_C_PIDE(D, lam, N, T):\n",
    "    c_sum = 0\n",
    "    dt = T/N\n",
    "\n",
    "    for coupon_count in range (N):\n",
    "        c_sum += ZC_Vasicek(F*c, r, kappa, theta, sigma, t, T=(coupon_count+1)*dt)*(1-solve_pide(D, lam, NT, NL, Nx, k, th, T=(coupon_count+1)*dt))\n",
    "        \n",
    "    c_sum = c_sum + ZC_Vasicek(F, r, kappa, theta, sigma, t, T)*(1-solve_pide(D, lam, NT, NL, Nx, k, th, T))\n",
    "    return c_sum"
   ]
  },
  {
   "cell_type": "code",
   "execution_count": 236,
   "id": "d5bac6cf",
   "metadata": {},
   "outputs": [
    {
     "name": "stdout",
     "output_type": "stream",
     "text": [
      "Prediction: 0.959195795480818\n",
      "Time taken for prediction: 53.999318 seconds\n"
     ]
    }
   ],
   "source": [
    "# Parameter ranges\n",
    "F = 1  # Fixed face value\n",
    "t = 0     # Fixed initial time\n",
    "k = 1     # Fixed Gamma shape\n",
    "th = 163500000    # Fixed Gamma scale\n",
    "c=0.05\n",
    "r=0.03\n",
    "kappa=0.2\n",
    "theta=0.03\n",
    "sigma=0.02\n",
    "NT=200 \n",
    "NL=1000\n",
    "Nx=10000\n",
    "\n",
    "D=9e9\n",
    "lam=35\n",
    "N=0\n",
    "T=1\n",
    "\n",
    "num_runs = 1  # Number of iterations\n",
    "results = []  # Store function outputs\n",
    "\n",
    "start_time = time.time()  # Start timing\n",
    "\n",
    "for _ in range(num_runs):\n",
    "    result = CAT_ZC_PIDE(D, lam, T)  # Run the function\n",
    "    results.append(result)  # Store the result\n",
    "\n",
    "end_time = time.time()  # End timing\n",
    "\n",
    "# Compute statistics\n",
    "total_time_PIDE = end_time - start_time  # Total execution time\n",
    "prediction_PIDE = np.mean(results)  # Mean of the function outputs\n",
    "\n",
    "# Print results\n",
    "print(\"Prediction:\", prediction_PIDE)\n",
    "print(f\"Time taken for prediction: {total_time_PIDE:.6f} seconds\")"
   ]
  },
  {
   "cell_type": "code",
   "execution_count": 237,
   "id": "6ad08a1b-4ffc-4f30-b8bb-4052266258cd",
   "metadata": {},
   "outputs": [
    {
     "name": "stdout",
     "output_type": "stream",
     "text": [
      "Prediction: 1.0564115103949463\n",
      "Time taken for prediction: 158.174243 seconds\n"
     ]
    }
   ],
   "source": [
    "N=2\n",
    "T=1\n",
    "\n",
    "results = []  # Store function outputs\n",
    "\n",
    "start_time = time.time()  # Start timing\n",
    "\n",
    "for _ in range(num_runs):\n",
    "    result = CAT_C_PIDE(D, lam, N, T)  # Run the function\n",
    "    results.append(result)  # Store the result\n",
    "\n",
    "end_time = time.time()  # End timing\n",
    "\n",
    "# Compute statistics\n",
    "total_time_PIDE = end_time - start_time  # Total execution time\n",
    "prediction_PIDE = np.mean(results)  # Mean of the function outputs\n",
    "\n",
    "# Print results\n",
    "print(\"Prediction:\", prediction_PIDE)\n",
    "print(f\"Time taken for prediction: {total_time_PIDE:.6f} seconds\")"
   ]
  },
  {
   "cell_type": "code",
   "execution_count": 238,
   "id": "4c560a26",
   "metadata": {},
   "outputs": [
    {
     "name": "stdout",
     "output_type": "stream",
     "text": [
      "Prediction: 1.1549108597898063\n",
      "Time taken for prediction: 264.460663 seconds\n"
     ]
    }
   ],
   "source": [
    "N=4\n",
    "T=1\n",
    "\n",
    "results = []  # Store function outputs\n",
    "\n",
    "start_time = time.time()  # Start timing\n",
    "\n",
    "for _ in range(num_runs):\n",
    "    result = CAT_C_PIDE(D, lam, N, T)  # Run the function\n",
    "    results.append(result)  # Store the result\n",
    "\n",
    "end_time = time.time()  # End timing\n",
    "\n",
    "# Compute statistics\n",
    "total_time_PIDE = end_time - start_time  # Total execution time\n",
    "prediction_PIDE = np.mean(results)  # Mean of the function outputs\n",
    "\n",
    "# Print results\n",
    "print(\"Prediction:\", prediction_PIDE)\n",
    "print(f\"Time taken for prediction: {total_time_PIDE:.6f} seconds\")"
   ]
  },
  {
   "cell_type": "code",
   "execution_count": 240,
   "id": "7f4388f2",
   "metadata": {},
   "outputs": [
    {
     "name": "stdout",
     "output_type": "stream",
     "text": [
      "Prediction: 0.3146402203817224\n",
      "Time taken for prediction: 472.816298 seconds\n"
     ]
    }
   ],
   "source": [
    "N=8\n",
    "T=2\n",
    "\n",
    "results = []  # Store function outputs\n",
    "\n",
    "start_time = time.time()  # Start timing\n",
    "\n",
    "for _ in range(num_runs):\n",
    "    result = CAT_C_PIDE(D, lam, N, T)  # Run the function\n",
    "    results.append(result)  # Store the result\n",
    "\n",
    "end_time = time.time()  # End timing\n",
    "\n",
    "# Compute statistics\n",
    "total_time_PIDE = end_time - start_time  # Total execution time\n",
    "prediction_PIDE = np.mean(results)  # Mean of the function outputs\n",
    "\n",
    "# Print results\n",
    "print(\"Prediction:\", prediction_PIDE)\n",
    "print(f\"Time taken for prediction: {total_time_PIDE:.6f} seconds\")"
   ]
  },
  {
   "cell_type": "code",
   "execution_count": 241,
   "id": "4fd23f14",
   "metadata": {},
   "outputs": [
    {
     "name": "stdout",
     "output_type": "stream",
     "text": [
      "Prediction: 0.4677796884966927\n",
      "Time taken for prediction: 684.587776 seconds\n"
     ]
    }
   ],
   "source": [
    "N=12\n",
    "T=2\n",
    "\n",
    "results = []  # Store function outputs\n",
    "\n",
    "start_time = time.time()  # Start timing\n",
    "\n",
    "for _ in range(num_runs):\n",
    "    result = CAT_C_PIDE(D, lam, N, T)  # Run the function\n",
    "    results.append(result)  # Store the result\n",
    "\n",
    "end_time = time.time()  # End timing\n",
    "\n",
    "# Compute statistics\n",
    "total_time_PIDE = end_time - start_time  # Total execution time\n",
    "prediction_PIDE = np.mean(results)  # Mean of the function outputs\n",
    "\n",
    "# Print results\n",
    "print(\"Prediction:\", prediction_PIDE)\n",
    "print(f\"Time taken for prediction: {total_time_PIDE:.6f} seconds\")"
   ]
  },
  {
   "cell_type": "code",
   "execution_count": null,
   "id": "96cada47",
   "metadata": {},
   "outputs": [],
   "source": []
  },
  {
   "cell_type": "code",
   "execution_count": null,
   "id": "bd09f1ae",
   "metadata": {},
   "outputs": [],
   "source": []
  },
  {
   "cell_type": "code",
   "execution_count": null,
   "id": "063b24b4",
   "metadata": {},
   "outputs": [],
   "source": []
  },
  {
   "cell_type": "code",
   "execution_count": null,
   "id": "1b569314",
   "metadata": {},
   "outputs": [],
   "source": []
  }
 ],
 "metadata": {
  "kernelspec": {
   "display_name": "Python 3 (ipykernel)",
   "language": "python",
   "name": "python3"
  },
  "language_info": {
   "codemirror_mode": {
    "name": "ipython",
    "version": 3
   },
   "file_extension": ".py",
   "mimetype": "text/x-python",
   "name": "python",
   "nbconvert_exporter": "python",
   "pygments_lexer": "ipython3",
   "version": "3.12.4"
  }
 },
 "nbformat": 4,
 "nbformat_minor": 5
}
