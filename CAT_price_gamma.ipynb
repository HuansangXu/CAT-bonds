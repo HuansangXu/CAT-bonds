{
 "cells": [
  {
   "cell_type": "code",
   "execution_count": 2,
   "id": "fbeb9b4a-324f-45bc-830f-aba080c7a961",
   "metadata": {},
   "outputs": [],
   "source": [
    "import numpy as np\n",
    "import matplotlib.pyplot as plt\n",
    "import scipy.stats as ss"
   ]
  },
  {
   "cell_type": "code",
   "execution_count": 3,
   "id": "edea99c9",
   "metadata": {},
   "outputs": [],
   "source": [
    "# Price for zero-coupon bond with stochastic interest rate under Vasicek's model\n",
    "def ZC_Vasicek(F, r, kappa, theta, sigma, t, T):\n",
    "    \n",
    "    delta_T = T - t\n",
    "    \n",
    "    B = (1 - np.exp(-kappa * delta_T)) / kappa\n",
    "    \n",
    "    A = np.exp((theta - (sigma**2) / (2 * kappa**2)) * (B - delta_T) - (sigma**2 / (4 * kappa)) * B**2)\n",
    "    \n",
    "    bond_price = F * A * np.exp(-B * r)\n",
    "    \n",
    "    return bond_price"
   ]
  },
  {
   "cell_type": "code",
   "execution_count": 4,
   "id": "929340d0",
   "metadata": {},
   "outputs": [
    {
     "name": "stdout",
     "output_type": "stream",
     "text": [
      "97.97852638018804\n"
     ]
    }
   ],
   "source": [
    "print(ZC_Vasicek(F=100, r=0.02, kappa = 0.1, theta = 0.03, sigma=0.02, t=0, T=1))"
   ]
  },
  {
   "cell_type": "code",
   "execution_count": 5,
   "id": "5baa661b-d27c-45e5-b9c3-1aa1b44a4c8d",
   "metadata": {},
   "outputs": [],
   "source": [
    "# MC with gamma distribution for the size of losses\n",
    "def naive_MC_gamma(nr, lam, D, k, th, T):\n",
    "    h = []\n",
    "    poissons = np.random.poisson(lam=lam*T, size=nr)\n",
    "    for i in range(nr):\n",
    "        x = np.sum(np.random.gamma(shape=k, scale=th, size=poissons[i]))\n",
    "        h.append(int(x>D))\n",
    "    return np.cumsum(h)/np.arange(1,nr+1)"
   ]
  },
  {
   "cell_type": "code",
   "execution_count": 6,
   "id": "09444e7f",
   "metadata": {},
   "outputs": [],
   "source": [
    "def rpoi(a, y, lam, t, T):\n",
    "    return np.exp(lam * (T-t) * (np.exp(a) - 1) - a * y)\n",
    "\n",
    "def rgamma(a, y, k, th, n):\n",
    "    return (1-th*a)**(-k*n) / np.exp(a * y)"
   ]
  },
  {
   "cell_type": "code",
   "execution_count": 7,
   "id": "e7793a02",
   "metadata": {},
   "outputs": [],
   "source": [
    "# Importance sampling for default probability\n",
    "def MC_IS_gamma_poi(nr, lam, D, k, th, t, T):\n",
    "    # Initial variables\n",
    "    a_poi = np.log(D / (lam * (T-t) * k * th))/2\n",
    "    poisson_means = lam * (T-t) * np.exp(a_poi)\n",
    "    a_gamma = 1/th - (k * poisson_means)/D\n",
    "    new_th = 1/(1/th - a_gamma)\n",
    "\n",
    "    # Preallocate memory for cumulative sums\n",
    "    h = np.zeros(nr)\n",
    "    r_poi = np.zeros(nr)\n",
    "    r_gamma = np.zeros(nr)\n",
    "    \n",
    "    # Loop over the number of simulations\n",
    "    for i in range(nr):\n",
    "        # Generate Poisson-distributed count\n",
    "        loss_n = np.random.poisson(lam=poisson_means)\n",
    "\n",
    "        # Generate the exponential random variables for this count\n",
    "        # Directly sum them without creating large intermediate arrays\n",
    "        x = np.sum(np.random.gamma(shape=k, scale=new_th, size=loss_n))\n",
    "\n",
    "        # Compute h and r for this simulation\n",
    "        h[i] = int(x > D)\n",
    "        r_poi[i] = rpoi(a_poi, loss_n, lam, t, T)\n",
    "        r_gamma[i] = rgamma(a_gamma, x, k, th, loss_n)\n",
    "\n",
    "    # Calculate cumulative sum and return the average at each step\n",
    "    cumulative_sum = np.cumsum(h * r_poi * r_gamma)\n",
    "    cumulative_avg = cumulative_sum / np.arange(1, nr + 1)\n",
    "\n",
    "    return cumulative_avg"
   ]
  },
  {
   "cell_type": "code",
   "execution_count": 14,
   "id": "7d7d53f7",
   "metadata": {},
   "outputs": [],
   "source": [
    "# Zero-coupon CAT bond pricing\n",
    "def CAT_ZC_Vasicek(F, r, kappa, theta, sigma, D, lam, k, th, nr, t, T):\n",
    "    if lam * T * k * th < D:\n",
    "        price = ZC_Vasicek(F, r, kappa, theta, sigma, t, T)*(1-MC_IS_gamma_poi(nr, lam, D, k, th, t, T)[-1])\n",
    "    else:  # Case: N == 0 and lam * T * k * th > D\n",
    "        price = ZC_Vasicek(F, r, kappa, theta, sigma, t, T)*(1-naive_MC_gamma(nr, lam, D, k, th, T)[-1])\n",
    "    return price"
   ]
  },
  {
   "cell_type": "code",
   "execution_count": 16,
   "id": "8185cf4c",
   "metadata": {},
   "outputs": [
    {
     "name": "stdout",
     "output_type": "stream",
     "text": [
      "96.51899538617474\n"
     ]
    }
   ],
   "source": [
    "print(CAT_ZC_Vasicek(F=100, r=0.02, kappa=0.1, theta=0.03, sigma=0.02, lam=35, D=9000000000, k=1, th=163500000, nr=5000, t=0, T=1))"
   ]
  },
  {
   "cell_type": "code",
   "execution_count": 18,
   "id": "31c61977",
   "metadata": {},
   "outputs": [],
   "source": [
    "# CAT bond with coupons pricing\n",
    "def CAT_C_Vasicek(F, c, r, kappa, theta, sigma, D, lam, k, th, nr, t, N, T):\n",
    "    c_sum = 0\n",
    "    dt = T/N\n",
    "\n",
    "    for coupon_count in range (N):\n",
    "        if lam * (coupon_count+1) * dt * k * th < D:\n",
    "            c_sum += ZC_Vasicek(F*c, r, kappa, theta, sigma, t, T=(coupon_count+1)*dt)*(1-MC_IS_gamma_poi(nr, lam, D, k, th, t, T=(coupon_count+1)*dt)[-1])\n",
    "        else:  # Case: N == 0 and lam * T * k * th > D\n",
    "            c_sum += ZC_Vasicek(F*c, r, kappa, theta, sigma, t, T=(coupon_count+1)*dt)*(1-naive_MC_gamma(nr, lam, D, k, th, T=(coupon_count+1)*dt)[-1])\n",
    "    \n",
    "    if lam * T * k * th < D:\n",
    "        c_sum = c_sum + ZC_Vasicek(F, r, kappa, theta, sigma, t, T)*(1-MC_IS_gamma_poi(nr, lam, D, k, th, t, T)[-1])\n",
    "    else:  # Case: N == 0 and lam * T * k * th > D\n",
    "        c_sum = c_sum + ZC_Vasicek(F, r, kappa, theta, sigma, t, T)*(1-naive_MC_gamma(nr, lam, D, k, th, T)[-1])\n",
    "    \n",
    "    return c_sum"
   ]
  },
  {
   "cell_type": "code",
   "execution_count": 20,
   "id": "5f5786e9-618a-4150-a0ca-82f82bc3b0bc",
   "metadata": {},
   "outputs": [
    {
     "name": "stdout",
     "output_type": "stream",
     "text": [
      "114.44812960234674\n"
     ]
    }
   ],
   "source": [
    "print(CAT_C_Vasicek(F=100, c=0.05, r=0.02, kappa=0.1, theta=0.03, sigma=0.02, lam=35, D=9000000000, k=1, th=163500000, nr=5000, t=0, N=3, T=1/4))"
   ]
  },
  {
   "cell_type": "code",
   "execution_count": 22,
   "id": "d5bac6cf",
   "metadata": {},
   "outputs": [],
   "source": [
    "# Parameter ranges\n",
    "F = 1000  # Fixed face value\n",
    "t = 0     # Fixed initial time\n",
    "#lam = 1   # Fixed Poisson rate\n",
    "k = 1     # Fixed Gamma shape\n",
    "th = 163500000    # Fixed Gamma scale\n",
    "#D = 90000000000    # Fixed threshold\n",
    "c=0.05\n",
    "#r=0.03\n",
    "kappa=0.2\n",
    "theta=0.03\n",
    "sigma=0.02\n",
    "nr = 5000\n",
    "\n",
    "\n",
    "# lam_values = np.linspace(30, 40, 100)        # Range for lambda\n",
    "# D_values = np.linspace(7, 11, 21)*1000000000           # Range for threshold\n",
    "# N_values = [0, 2, 3, 4, 6, 12]      # Range for coupon frequency\n",
    "# T_values = np.linspace(90, 720, 64)*1/360\n"
   ]
  },
  {
   "cell_type": "code",
   "execution_count": 24,
   "id": "838d7859-9636-4281-86e1-00e44d4e5779",
   "metadata": {},
   "outputs": [
    {
     "name": "stdout",
     "output_type": "stream",
     "text": [
      "Running 600000 simulations in 60 chunks...\n",
      "\n"
     ]
    },
    {
     "name": "stderr",
     "output_type": "stream",
     "text": [
      "Processing chunk 1/60: 100%|██████████████| 10000/10000 [22:07<00:00,  7.53it/s]\n",
      "Processing chunk 2/60: 100%|██████████████| 10000/10000 [22:19<00:00,  7.47it/s]\n",
      "Processing chunk 3/60: 100%|██████████████| 10000/10000 [22:15<00:00,  7.49it/s]\n",
      "Processing chunk 4/60: 100%|██████████████| 10000/10000 [22:10<00:00,  7.52it/s]\n",
      "Processing chunk 5/60: 100%|██████████████| 10000/10000 [22:26<00:00,  7.43it/s]\n",
      "Processing chunk 6/60: 100%|██████████████| 10000/10000 [22:22<00:00,  7.45it/s]\n",
      "Processing chunk 7/60: 100%|██████████████| 10000/10000 [22:05<00:00,  7.54it/s]\n",
      "Processing chunk 8/60: 100%|██████████████| 10000/10000 [22:28<00:00,  7.42it/s]\n",
      "Processing chunk 9/60: 100%|██████████████| 10000/10000 [22:12<00:00,  7.50it/s]\n",
      "Processing chunk 10/60: 100%|█████████████| 10000/10000 [22:06<00:00,  7.54it/s]\n",
      "Processing chunk 11/60: 100%|█████████████| 10000/10000 [59:48<00:00,  2.79it/s]\n",
      "Processing chunk 12/60: 100%|█████████████| 10000/10000 [22:18<00:00,  7.47it/s]\n",
      "Processing chunk 13/60: 100%|█████████████| 10000/10000 [22:29<00:00,  7.41it/s]\n",
      "Processing chunk 14/60: 100%|█████████████| 10000/10000 [22:24<00:00,  7.44it/s]\n",
      "Processing chunk 15/60: 100%|█████████████| 10000/10000 [22:23<00:00,  7.44it/s]\n",
      "Processing chunk 16/60: 100%|█████████████| 10000/10000 [22:24<00:00,  7.44it/s]\n",
      "Processing chunk 17/60: 100%|█████████████| 10000/10000 [22:26<00:00,  7.43it/s]\n",
      "Processing chunk 18/60: 100%|█████████████| 10000/10000 [22:20<00:00,  7.46it/s]\n",
      "Processing chunk 19/60: 100%|█████████████| 10000/10000 [22:20<00:00,  7.46it/s]\n",
      "Processing chunk 20/60: 100%|█████████████| 10000/10000 [22:16<00:00,  7.48it/s]\n",
      "Processing chunk 21/60: 100%|█████████████| 10000/10000 [22:12<00:00,  7.50it/s]\n",
      "Processing chunk 22/60: 100%|█████████████| 10000/10000 [23:45<00:00,  7.02it/s]\n",
      "Processing chunk 23/60: 100%|█████████████| 10000/10000 [22:14<00:00,  7.49it/s]\n",
      "Processing chunk 24/60: 100%|█████████████| 10000/10000 [22:01<00:00,  7.57it/s]\n",
      "Processing chunk 25/60: 100%|█████████████| 10000/10000 [22:18<00:00,  7.47it/s]\n",
      "Processing chunk 26/60: 100%|█████████████| 10000/10000 [22:16<00:00,  7.48it/s]\n",
      "Processing chunk 27/60: 100%|█████████████| 10000/10000 [22:02<00:00,  7.56it/s]\n",
      "Processing chunk 28/60: 100%|█████████████| 10000/10000 [22:26<00:00,  7.43it/s]\n",
      "Processing chunk 29/60: 100%|█████████████| 10000/10000 [22:28<00:00,  7.42it/s]\n",
      "Processing chunk 30/60: 100%|█████████████| 10000/10000 [22:05<00:00,  7.55it/s]\n",
      "Processing chunk 31/60: 100%|█████████████| 10000/10000 [22:09<00:00,  7.52it/s]\n",
      "Processing chunk 32/60: 100%|█████████████| 10000/10000 [22:10<00:00,  7.52it/s]\n",
      "Processing chunk 33/60: 100%|█████████████| 10000/10000 [22:02<00:00,  7.56it/s]\n",
      "Processing chunk 34/60: 100%|█████████████| 10000/10000 [22:02<00:00,  7.56it/s]\n",
      "Processing chunk 35/60: 100%|█████████████| 10000/10000 [22:09<00:00,  7.52it/s]\n",
      "Processing chunk 36/60: 100%|█████████████| 10000/10000 [22:01<00:00,  7.57it/s]\n",
      "Processing chunk 37/60: 100%|█████████████| 10000/10000 [22:29<00:00,  7.41it/s]\n",
      "Processing chunk 38/60: 100%|█████████████| 10000/10000 [22:04<00:00,  7.55it/s]\n",
      "Processing chunk 39/60: 100%|█████████████| 10000/10000 [22:19<00:00,  7.46it/s]\n",
      "Processing chunk 40/60: 100%|█████████████| 10000/10000 [22:09<00:00,  7.52it/s]\n",
      "Processing chunk 41/60: 100%|█████████████| 10000/10000 [22:06<00:00,  7.54it/s]\n",
      "Processing chunk 42/60: 100%|█████████████| 10000/10000 [22:21<00:00,  7.46it/s]\n",
      "Processing chunk 43/60: 100%|█████████████| 10000/10000 [22:06<00:00,  7.54it/s]\n",
      "Processing chunk 44/60: 100%|█████████████| 10000/10000 [22:28<00:00,  7.41it/s]\n",
      "Processing chunk 45/60: 100%|█████████████| 10000/10000 [22:15<00:00,  7.49it/s]\n",
      "Processing chunk 46/60: 100%|█████████████| 10000/10000 [22:26<00:00,  7.43it/s]\n",
      "Processing chunk 47/60: 100%|█████████████| 10000/10000 [22:09<00:00,  7.52it/s]\n",
      "Processing chunk 48/60: 100%|█████████████| 10000/10000 [22:11<00:00,  7.51it/s]\n",
      "Processing chunk 49/60: 100%|█████████████| 10000/10000 [21:56<00:00,  7.59it/s]\n",
      "Processing chunk 50/60: 100%|█████████████| 10000/10000 [22:13<00:00,  7.50it/s]\n",
      "Processing chunk 51/60: 100%|█████████████| 10000/10000 [21:59<00:00,  7.58it/s]\n",
      "Processing chunk 52/60: 100%|█████████████| 10000/10000 [22:06<00:00,  7.54it/s]\n",
      "Processing chunk 53/60: 100%|█████████████| 10000/10000 [22:07<00:00,  7.53it/s]\n",
      "Processing chunk 54/60: 100%|█████████████| 10000/10000 [22:09<00:00,  7.52it/s]\n",
      "Processing chunk 55/60: 100%|█████████████| 10000/10000 [22:03<00:00,  7.56it/s]\n",
      "Processing chunk 56/60: 100%|█████████████| 10000/10000 [22:14<00:00,  7.49it/s]\n",
      "Processing chunk 57/60: 100%|█████████████| 10000/10000 [22:03<00:00,  7.56it/s]\n",
      "Processing chunk 58/60: 100%|█████████████| 10000/10000 [21:57<00:00,  7.59it/s]\n",
      "Processing chunk 59/60: 100%|█████████████| 10000/10000 [22:10<00:00,  7.52it/s]\n",
      "Processing chunk 60/60: 100%|█████████████| 10000/10000 [22:03<00:00,  7.55it/s]"
     ]
    },
    {
     "name": "stdout",
     "output_type": "stream",
     "text": [
      "Simulation complete. Results saved to CSV file.\n"
     ]
    },
    {
     "name": "stderr",
     "output_type": "stream",
     "text": [
      "\n"
     ]
    }
   ],
   "source": [
    "from tqdm import tqdm\n",
    "import csv\n",
    "\n",
    "N_sim = 600000\n",
    "N_values = [0, 2, 3, 4, 6, 8, 10, 12]\n",
    "chunk_size = 10000  \n",
    "start_chunk = 1  # Allows skipping initial chunks\n",
    "\n",
    "# Compute total chunks\n",
    "total_chunks = (N_sim) // chunk_size\n",
    "results = []\n",
    "\n",
    "# CSV file path\n",
    "csv_file = 'CAT_price_gamma.csv'\n",
    "\n",
    "# Prepare CSV file header if needed\n",
    "csv_header = [\"c\", \"r\", \"kappa\", \"theta\", \"sigma\", \"lambda\", \"D\", \"N\", \"T\", \"Price\"]\n",
    "\n",
    "# Open CSV file in write mode to create the header\n",
    "with open(csv_file, mode='w', newline='') as file:\n",
    "    writer = csv.writer(file)\n",
    "    writer.writerow(csv_header)  # Write the header to the CSV file\n",
    "    \n",
    "    print(f\"Running {N_sim} simulations in {total_chunks} chunks...\\n\")\n",
    "    \n",
    "    for chunk_index in range(1, total_chunks + 1):\n",
    "        if chunk_index < start_chunk:\n",
    "            continue  # Skip initial chunks if needed\n",
    "\n",
    "        chunk_results = []\n",
    "\n",
    "        for _ in tqdm(range(chunk_size), desc=f\"Processing chunk {chunk_index}/{total_chunks}\"):\n",
    "            N = np.random.choice(N_values)  # Randomly select N\n",
    "            r = np.random.uniform(0, 0.08)\n",
    "            lam = np.random.uniform(30, 40)\n",
    "            D = np.random.uniform(7, 13)*1000000000 \n",
    "            T = np.random.uniform(90, 720)*1/360\n",
    "\n",
    "            # Condition to determine which function to use\n",
    "            if N == 0:\n",
    "                price = CAT_ZC_Vasicek(F, r, kappa, theta, sigma, D, lam, k, th, nr, t, T)\n",
    "            else:\n",
    "                price = CAT_C_Vasicek(F, c, r, kappa, theta, sigma, D, lam, k, th, nr, t, N, T)\n",
    "\n",
    "            chunk_results.append({\n",
    "                \"c\": c,\n",
    "                \"r\": r,\n",
    "                \"kappa\": kappa,\n",
    "                \"theta\": theta,\n",
    "                \"sigma\": sigma,\n",
    "                \"lambda\": lam,\n",
    "                \"D\": D,\n",
    "                \"N\": N,\n",
    "                \"T\": T,\n",
    "                \"Price\": price\n",
    "            })\n",
    "\n",
    "        # Save the chunk results into the CSV file after each chunk finishes\n",
    "        for result in chunk_results:\n",
    "            writer.writerow(result.values())\n",
    "\n",
    "        results.extend(chunk_results)  # Save chunk results\n",
    "\n",
    "\n",
    "print(\"Simulation complete. Results saved to CSV file.\")    "
   ]
  },
  {
   "cell_type": "code",
   "execution_count": null,
   "id": "d5d9798b",
   "metadata": {},
   "outputs": [],
   "source": []
  },
  {
   "cell_type": "code",
   "execution_count": null,
   "id": "4c560a26",
   "metadata": {},
   "outputs": [],
   "source": []
  },
  {
   "cell_type": "code",
   "execution_count": null,
   "id": "3a25a8cb",
   "metadata": {},
   "outputs": [],
   "source": []
  },
  {
   "cell_type": "code",
   "execution_count": null,
   "id": "826e5830",
   "metadata": {},
   "outputs": [],
   "source": []
  }
 ],
 "metadata": {
  "kernelspec": {
   "display_name": "Python 3 (ipykernel)",
   "language": "python",
   "name": "python3"
  },
  "language_info": {
   "codemirror_mode": {
    "name": "ipython",
    "version": 3
   },
   "file_extension": ".py",
   "mimetype": "text/x-python",
   "name": "python",
   "nbconvert_exporter": "python",
   "pygments_lexer": "ipython3",
   "version": "3.12.4"
  }
 },
 "nbformat": 4,
 "nbformat_minor": 5
}
