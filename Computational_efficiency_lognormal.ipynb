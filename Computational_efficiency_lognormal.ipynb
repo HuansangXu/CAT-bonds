{
 "cells": [
  {
   "cell_type": "code",
   "execution_count": 2,
   "id": "fbeb9b4a-324f-45bc-830f-aba080c7a961",
   "metadata": {},
   "outputs": [],
   "source": [
    "import numpy as np\n",
    "import pandas as pd\n",
    "import matplotlib.pyplot as plt\n",
    "import scipy.stats as ss\n",
    "import tensorflow as tf\n",
    "import joblib\n",
    "import time"
   ]
  },
  {
   "cell_type": "code",
   "execution_count": 3,
   "id": "edea99c9",
   "metadata": {},
   "outputs": [],
   "source": [
    "# Price for zero-coupon bond with stochastic interest rate under Vasicek's model\n",
    "def ZC_Vasicek(F, r, kappa, theta, sigma, t, T):\n",
    "    \n",
    "    delta_T = T - t\n",
    "    \n",
    "    B = (1 - np.exp(-kappa * delta_T)) / kappa\n",
    "    \n",
    "    A = np.exp((theta - (sigma**2) / (2 * kappa**2)) * (B - delta_T) - (sigma**2 / (4 * kappa)) * B**2)\n",
    "    \n",
    "    bond_price = F * A * np.exp(-B * r)\n",
    "    \n",
    "    return bond_price"
   ]
  },
  {
   "cell_type": "code",
   "execution_count": 4,
   "id": "09444e7f",
   "metadata": {},
   "outputs": [],
   "source": [
    "def rpoi(a, y, lam, t, T):\n",
    "    return np.exp(lam * (T-t) * (np.exp(a) - 1) - a * y)\n",
    "\n",
    "def rlog(a, y, mu, sig, n):\n",
    "    # Calculate the exponents\n",
    "    exponent1 = ((mu + a)**2 - mu**2) / (2 * sig**2)\n",
    "    exponent2 = a * y / (sig**2)\n",
    "    \n",
    "    # Compute the final result using logarithms to avoid overflow\n",
    "    log_result = (exponent1 * n) - exponent2  # Logarithmic equivalent of the division\n",
    "    \n",
    "    # Calculate the result using np.exp\n",
    "    result = np.exp(log_result)\n",
    "    \n",
    "    return result"
   ]
  },
  {
   "cell_type": "code",
   "execution_count": 5,
   "id": "e04b0cd3-940d-4b95-bfae-507559095c5c",
   "metadata": {},
   "outputs": [],
   "source": [
    "# MC with lognormal distribution for the size of losses\n",
    "def naive_MC_log(nr, lam, D, mu, sig, T):\n",
    "    h = []\n",
    "    poissons = np.random.poisson(lam=lam*T, size=nr)\n",
    "    for i in range(nr):\n",
    "        x = np.sum(np.random.lognormal(mean=mu, sigma=sig, size = poissons[i]))\n",
    "        h.append(int(x>D))\n",
    "    return np.cumsum(h)/np.arange(1,nr+1)"
   ]
  },
  {
   "cell_type": "code",
   "execution_count": 6,
   "id": "e7793a02",
   "metadata": {},
   "outputs": [],
   "source": [
    "# Importance sampling for default probability\n",
    "def MC_IS_log_poi(nr, lam, D, mu, sig, t, T):\n",
    "    # Initial variables\n",
    "    a_poi = np.log(D / (lam * T * np.exp(mu+sig**2/2)))/2\n",
    "    poisson_means = lam * T * np.exp(a_poi)\n",
    "    a_log = np.log(D/poisson_means) - (mu+sig**2/2)\n",
    "    new_mu = mu+a_log\n",
    "\n",
    "    # Preallocate memory for cumulative sums\n",
    "    h = np.zeros(nr)\n",
    "    r_poi = np.zeros(nr)\n",
    "    r_log = np.zeros(nr)\n",
    "    \n",
    "    # Loop over the number of simulations\n",
    "    for i in range(nr):\n",
    "        # Generate Poisson-distributed count\n",
    "        poissons = np.random.poisson(lam=poisson_means)\n",
    "\n",
    "        # Generate the exponential random variables for this count\n",
    "        # Directly sum them without creating large intermediate arrays\n",
    "        x = np.random.normal(loc=new_mu, scale=sig, size=poissons)\n",
    "        y = np.sum(x)\n",
    "        z = np.sum(np.exp(x))\n",
    "\n",
    "        # Compute h and r for this simulation\n",
    "        h[i] = int(z > D)\n",
    "        r_poi[i] = rpoi(a_poi, poissons, lam, t, T)\n",
    "        r_log[i] = rlog(a_log, y, mu, sig, poissons)\n",
    "\n",
    "    # Calculate cumulative sum and return the average at each step\n",
    "    cumulative_sum = np.cumsum(h * r_poi * r_log)\n",
    "    cumulative_avg = cumulative_sum / np.arange(1, nr + 1)\n",
    "\n",
    "    return cumulative_avg"
   ]
  },
  {
   "cell_type": "code",
   "execution_count": 7,
   "id": "7d7d53f7",
   "metadata": {},
   "outputs": [],
   "source": [
    "# Zero-coupon CAT bond pricing under IS\n",
    "def IS_CAT_ZC_Vasicek(F, r, kappa, theta, sigma, D, lam, mu, sig, nr, t, T):\n",
    "    return ZC_Vasicek(F, r, kappa, theta, sigma, t, T)*(1-MC_IS_log_poi(nr, lam, D, mu, sig, t, T)[-1])"
   ]
  },
  {
   "cell_type": "code",
   "execution_count": 8,
   "id": "31c61977",
   "metadata": {},
   "outputs": [],
   "source": [
    "# CAT bond with coupons pricing\n",
    "def CAT_C_Vasicek(D, lam, N, T):\n",
    "    c_sum = 0\n",
    "    dt = T/N\n",
    "    \n",
    "    for coupon_count in range (N):\n",
    "        if lam * (coupon_count+1) * dt * np.exp(mu + sig**2 / 2) < D:\n",
    "            c_sum += ZC_Vasicek(F*c, r, kappa, theta, sigma, t, T=(coupon_count+1)*dt)*(1-MC_IS_log_poi(nr, lam, D, mu, sig, t, T=(coupon_count+1)*dt)[-1])\n",
    "        else:  # Case: N == 0 and lam * T * k * th > D\n",
    "            c_sum += ZC_Vasicek(F*c, r, kappa, theta, sigma, t, T=(coupon_count+1)*dt)*(1-naive_MC_log(nr, lam, D, mu, sig, T=(coupon_count+1)*dt)[-1])\n",
    "    \n",
    "    if lam * T * np.exp(mu + sig**2 / 2) < D:\n",
    "        c_sum = c_sum + ZC_Vasicek(F, r, kappa, theta, sigma, t, T)*(1-MC_IS_log_poi(nr, lam, D, mu, sig, t, T)[-1])\n",
    "    else:  # Case: N == 0 and lam * T * k * th > D\n",
    "        c_sum = c_sum + ZC_Vasicek(F, r, kappa, theta, sigma, t, T)*(1-naive_MC_log(nr, lam, D, mu, sig, T)[-1])\n",
    "    \n",
    "    return c_sum"
   ]
  },
  {
   "cell_type": "code",
   "execution_count": 9,
   "id": "d5bac6cf",
   "metadata": {},
   "outputs": [
    {
     "name": "stdout",
     "output_type": "stream",
     "text": [
      "Prediction: 1.037670255506584\n",
      "Time taken for prediction: 164.733739 seconds\n"
     ]
    }
   ],
   "source": [
    "F = 1  # Fixed face value\n",
    "t = 0     # Fixed initial time\n",
    "mu = 18.4    # Fixed lognormal shape\n",
    "sig = 1    # Fixed lognormal scale\n",
    "c=0.05\n",
    "r=0.03\n",
    "kappa=0.2\n",
    "theta=0.03\n",
    "sigma=0.02\n",
    "nr = 10000\n",
    "\n",
    "D=9*1000000000\n",
    "lam=35\n",
    "N=2\n",
    "T=1\n",
    "\n",
    "num_runs = 1000  # Number of iterations\n",
    "results = []  # Store function outputs\n",
    "\n",
    "start_time = time.time()  # Start timing\n",
    "\n",
    "for _ in range(num_runs):\n",
    "    result = CAT_C_Vasicek(D, lam, N, T)  # Run the function\n",
    "    results.append(result)  # Store the result\n",
    "\n",
    "end_time = time.time()  # End timing\n",
    "\n",
    "# Compute statistics\n",
    "total_time_MC = end_time - start_time  # Total execution time\n",
    "prediction_MC = np.mean(results)  # Mean of the function outputs\n",
    "\n",
    "# Print results\n",
    "print(\"Prediction:\", prediction_MC)\n",
    "print(f\"Time taken for prediction: {total_time_MC:.6f} seconds\")"
   ]
  },
  {
   "cell_type": "code",
   "execution_count": 10,
   "id": "d5d9798b",
   "metadata": {},
   "outputs": [
    {
     "name": "stderr",
     "output_type": "stream",
     "text": [
      "WARNING:absl:Compiled the loaded model, but the compiled metrics have yet to be built. `model.compile_metrics` will be empty until you train or evaluate the model.\n"
     ]
    },
    {
     "name": "stdout",
     "output_type": "stream",
     "text": [
      "\u001b[1m32/32\u001b[0m \u001b[32m━━━━━━━━━━━━━━━━━━━━\u001b[0m\u001b[37m\u001b[0m \u001b[1m0s\u001b[0m 1ms/step \n",
      "Prediction: 1.0387813\n",
      "Time taken for prediction: 0.086861 seconds\n"
     ]
    }
   ],
   "source": [
    "# Define custom objects dictionary\n",
    "custom_objects = {\"mse\": tf.keras.losses.MeanSquaredError()}\n",
    "\n",
    "# Load the saved model\n",
    "model_log = tf.keras.models.load_model(\"best_NN_lognormal.h5\", custom_objects=custom_objects)\n",
    "\n",
    "# Define the feature names (match the original dataset used to fit the scaler)\n",
    "feature_names = [\"r\", \"lambda\", \"D\", \"N\", \"T\"]  # Update with actual names\n",
    "\n",
    "# Example input: Replace this with the actual input shape expected by model\n",
    "new_input = np.array([[0.03, 35, 9*1000000000, 2, 1]])  # Modify based on model's input shape\n",
    "\n",
    "# Convert new_input to a DataFrame\n",
    "new_input_df = pd.DataFrame(new_input, columns=feature_names)\n",
    "\n",
    "# Load the fitted scaler\n",
    "scaler = joblib.load(\"scaler_log.pkl\")\n",
    "\n",
    "# Apply the same scaling\n",
    "new_input_scaled = scaler.transform(new_input_df)\n",
    "\n",
    "new_input_scaled_batch = np.tile(new_input_scaled, (num_runs, 1))  # Duplicate input for batching\n",
    "start_time = time.time()\n",
    "results = model_log.predict(new_input_scaled_batch)  # Single batch prediction\n",
    "end_time = time.time()\n",
    "\n",
    "# Compute statistics\n",
    "total_time_log = end_time - start_time  # Total execution time\n",
    "prediction_log = np.mean(results)  # Mean of the function outputs\n",
    "\n",
    "# Print results\n",
    "print(\"Prediction:\", prediction_log)\n",
    "print(f\"Time taken for prediction: {total_time_log:.6f} seconds\")"
   ]
  },
  {
   "cell_type": "code",
   "execution_count": 11,
   "id": "0047da68-5762-411f-bc0e-45c262cbe891",
   "metadata": {},
   "outputs": [
    {
     "name": "stdout",
     "output_type": "stream",
     "text": [
      "\u001b[1m32/32\u001b[0m \u001b[32m━━━━━━━━━━━━━━━━━━━━\u001b[0m\u001b[37m\u001b[0m \u001b[1m0s\u001b[0m 416us/step\n",
      "Prediction: 1.0387813\n",
      "Time taken for prediction: 0.029811 seconds\n"
     ]
    }
   ],
   "source": [
    "# Example input: Replace this with the actual input shape expected by model\n",
    "new_input = np.array([[0.03, 35, 9*1000000000, 2, 1]])  # Modify based on model's input shape\n",
    "\n",
    "# Convert new_input to a DataFrame\n",
    "new_input_df = pd.DataFrame(new_input, columns=feature_names)\n",
    "\n",
    "# Apply the same scaling\n",
    "new_input_scaled = scaler.transform(new_input_df)\n",
    "\n",
    "new_input_scaled_batch = np.tile(new_input_scaled, (num_runs, 1))  # Duplicate input for batching\n",
    "start_time = time.time()\n",
    "results = model_log.predict(new_input_scaled_batch)  # Single batch prediction\n",
    "end_time = time.time()\n",
    "\n",
    "# Compute statistics\n",
    "total_time_log = end_time - start_time  # Total execution time\n",
    "prediction_log = np.mean(results)  # Mean of the function outputs\n",
    "\n",
    "# Print results\n",
    "print(\"Prediction:\", prediction_log)\n",
    "print(f\"Time taken for prediction: {total_time_log:.6f} seconds\")"
   ]
  },
  {
   "cell_type": "code",
   "execution_count": 12,
   "id": "4c560a26",
   "metadata": {},
   "outputs": [
    {
     "name": "stdout",
     "output_type": "stream",
     "text": [
      "Prediction: 1.1360151890941566\n",
      "Time taken for prediction: 270.791549 seconds\n"
     ]
    }
   ],
   "source": [
    "N=4\n",
    "T=1\n",
    "\n",
    "results = []  # Store function outputs\n",
    "\n",
    "start_time = time.time()  # Start timing\n",
    "\n",
    "for _ in range(num_runs):\n",
    "    result = CAT_C_Vasicek(D, lam, N, T)  # Run the function\n",
    "    results.append(result)  # Store the result\n",
    "\n",
    "end_time = time.time()  # End timing\n",
    "\n",
    "# Compute statistics\n",
    "total_time_MC = end_time - start_time  # Total execution time\n",
    "prediction_MC = np.mean(results)  # Mean of the function outputs\n",
    "\n",
    "# Print results\n",
    "print(\"Prediction:\", prediction_MC)\n",
    "print(f\"Time taken for prediction: {total_time_MC:.6f} seconds\")"
   ]
  },
  {
   "cell_type": "code",
   "execution_count": 13,
   "id": "3a25a8cb",
   "metadata": {},
   "outputs": [
    {
     "name": "stdout",
     "output_type": "stream",
     "text": [
      "\u001b[1m32/32\u001b[0m \u001b[32m━━━━━━━━━━━━━━━━━━━━\u001b[0m\u001b[37m\u001b[0m \u001b[1m0s\u001b[0m 423us/step\n",
      "Prediction: 1.1338567\n",
      "Time taken for one prediction: 0.030764 seconds\n"
     ]
    }
   ],
   "source": [
    "# Example input: Replace this with the actual input shape expected by model\n",
    "new_input = np.array([[0.03, 35, 9*1000000000, 4, 1]])  # Modify based on model's input shape\n",
    "\n",
    "# Convert new_input to a DataFrame\n",
    "new_input_df = pd.DataFrame(new_input, columns=feature_names)\n",
    "\n",
    "# Apply the same scaling\n",
    "new_input_scaled = scaler.transform(new_input_df)\n",
    "\n",
    "new_input_scaled_batch = np.tile(new_input_scaled, (num_runs, 1))  # Duplicate input for batching\n",
    "start_time = time.time()\n",
    "results = model_log.predict(new_input_scaled_batch)  # Single batch prediction\n",
    "end_time = time.time()\n",
    "\n",
    "# Compute statistics\n",
    "total_time_log = end_time - start_time  # Total execution time\n",
    "prediction_log = np.mean(results)  # Mean of the function outputs\n",
    "\n",
    "# Print results\n",
    "print(\"Prediction:\", prediction_log)\n",
    "print(f\"Time taken for one prediction: {total_time_log:.6f} seconds\")"
   ]
  },
  {
   "cell_type": "code",
   "execution_count": 14,
   "id": "7f4388f2",
   "metadata": {},
   "outputs": [
    {
     "name": "stdout",
     "output_type": "stream",
     "text": [
      "Prediction: 0.4253706275342994\n",
      "Time taken for one prediction: 417.915222 seconds\n"
     ]
    }
   ],
   "source": [
    "N=8\n",
    "T=2\n",
    "\n",
    "results = []  # Store function outputs\n",
    "\n",
    "start_time = time.time()  # Start timing\n",
    "\n",
    "for _ in range(num_runs):\n",
    "    result = CAT_C_Vasicek(D, lam, N, T)  # Run the function\n",
    "    results.append(result)  # Store the result\n",
    "\n",
    "end_time = time.time()  # End timing\n",
    "\n",
    "# Compute statistics\n",
    "total_time_MC = end_time - start_time  # Total execution time\n",
    "prediction_MC = np.mean(results)  # Mean of the function outputs\n",
    "\n",
    "# Print results\n",
    "print(\"Prediction:\", prediction_MC)\n",
    "print(f\"Time taken for one prediction: {total_time_MC:.6f} seconds\")"
   ]
  },
  {
   "cell_type": "code",
   "execution_count": 22,
   "id": "bda2dd11",
   "metadata": {},
   "outputs": [
    {
     "name": "stdout",
     "output_type": "stream",
     "text": [
      "\u001b[1m32/32\u001b[0m \u001b[32m━━━━━━━━━━━━━━━━━━━━\u001b[0m\u001b[37m\u001b[0m \u001b[1m0s\u001b[0m 373us/step\n",
      "Prediction: 0.42789125\n",
      "Time taken for one prediction: 0.029408 seconds\n"
     ]
    }
   ],
   "source": [
    "# Example input: Replace this with the actual input shape expected by model\n",
    "new_input = np.array([[0.03, 35, 9*1000000000, 8, 2]])  # Modify based on model's input shape\n",
    "\n",
    "# Convert new_input to a DataFrame\n",
    "new_input_df = pd.DataFrame(new_input, columns=feature_names)\n",
    "\n",
    "# Apply the same scaling\n",
    "new_input_scaled = scaler.transform(new_input_df)\n",
    "\n",
    "new_input_scaled_batch = np.tile(new_input_scaled, (num_runs, 1))  # Duplicate input for batching\n",
    "start_time = time.time()\n",
    "results = model_log.predict(new_input_scaled_batch)  # Single batch prediction\n",
    "end_time = time.time()\n",
    "\n",
    "# Compute statistics\n",
    "total_time_log = end_time - start_time  # Total execution time\n",
    "prediction_log = np.mean(results)  # Mean of the function outputs\n",
    "\n",
    "# Print results\n",
    "print(\"Prediction:\", prediction_log)\n",
    "print(f\"Time taken for one prediction: {total_time_log:.6f} seconds\")"
   ]
  },
  {
   "cell_type": "code",
   "execution_count": 23,
   "id": "4fd23f14",
   "metadata": {},
   "outputs": [
    {
     "name": "stdout",
     "output_type": "stream",
     "text": [
      "Prediction: 0.5823190587038356\n",
      "Time taken for one prediction: 606.227924 seconds\n"
     ]
    }
   ],
   "source": [
    "N=12\n",
    "T=2\n",
    "\n",
    "results = []  # Store function outputs\n",
    "\n",
    "start_time = time.time()  # Start timing\n",
    "\n",
    "for _ in range(num_runs):\n",
    "    result = CAT_C_Vasicek(D, lam, N, T)  # Run the function\n",
    "    results.append(result)  # Store the result\n",
    "\n",
    "end_time = time.time()  # End timing\n",
    "\n",
    "# Compute statistics\n",
    "total_time_MC = end_time - start_time  # Total execution time\n",
    "prediction_MC = np.mean(results)  # Mean of the function outputs\n",
    "\n",
    "# Print results\n",
    "print(\"Prediction:\", prediction_MC)\n",
    "print(f\"Time taken for one prediction: {total_time_MC:.6f} seconds\")"
   ]
  },
  {
   "cell_type": "code",
   "execution_count": 24,
   "id": "826e5830",
   "metadata": {},
   "outputs": [
    {
     "name": "stdout",
     "output_type": "stream",
     "text": [
      "\u001b[1m32/32\u001b[0m \u001b[32m━━━━━━━━━━━━━━━━━━━━\u001b[0m\u001b[37m\u001b[0m \u001b[1m0s\u001b[0m 371us/step\n",
      "Prediction: 0.57999146\n",
      "Time taken for one prediction: 0.029497 seconds\n"
     ]
    }
   ],
   "source": [
    "# Example input: Replace this with the actual input shape expected by model\n",
    "new_input = np.array([[0.03, 35, 9*1000000000, 12, 2]])  # Modify based on model's input shape\n",
    "\n",
    "# Convert new_input to a DataFrame\n",
    "new_input_df = pd.DataFrame(new_input, columns=feature_names)\n",
    "\n",
    "# Apply the same scaling\n",
    "new_input_scaled = scaler.transform(new_input_df)\n",
    "\n",
    "new_input_scaled_batch = np.tile(new_input_scaled, (num_runs, 1))  # Duplicate input for batching\n",
    "start_time = time.time()\n",
    "results = model_log.predict(new_input_scaled_batch)  # Single batch prediction\n",
    "end_time = time.time()\n",
    "\n",
    "# Compute statistics\n",
    "total_time_log = end_time - start_time  # Total execution time\n",
    "prediction_log = np.mean(results)  # Mean of the function outputs\n",
    "\n",
    "# Print results\n",
    "print(\"Prediction:\", prediction_log)\n",
    "print(f\"Time taken for one prediction: {total_time_log:.6f} seconds\")"
   ]
  },
  {
   "cell_type": "code",
   "execution_count": null,
   "id": "96cada47",
   "metadata": {},
   "outputs": [],
   "source": []
  },
  {
   "cell_type": "code",
   "execution_count": null,
   "id": "bd09f1ae",
   "metadata": {},
   "outputs": [],
   "source": []
  },
  {
   "cell_type": "code",
   "execution_count": null,
   "id": "063b24b4",
   "metadata": {},
   "outputs": [],
   "source": []
  },
  {
   "cell_type": "code",
   "execution_count": null,
   "id": "1b569314",
   "metadata": {},
   "outputs": [],
   "source": []
  }
 ],
 "metadata": {
  "kernelspec": {
   "display_name": "Python 3 (ipykernel)",
   "language": "python",
   "name": "python3"
  },
  "language_info": {
   "codemirror_mode": {
    "name": "ipython",
    "version": 3
   },
   "file_extension": ".py",
   "mimetype": "text/x-python",
   "name": "python",
   "nbconvert_exporter": "python",
   "pygments_lexer": "ipython3",
   "version": "3.12.4"
  }
 },
 "nbformat": 4,
 "nbformat_minor": 5
}
