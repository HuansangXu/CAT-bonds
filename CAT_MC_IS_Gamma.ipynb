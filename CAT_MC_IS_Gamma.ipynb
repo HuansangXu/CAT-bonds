{
 "cells": [
  {
   "cell_type": "code",
   "execution_count": 33,
   "id": "fbeb9b4a-324f-45bc-830f-aba080c7a961",
   "metadata": {},
   "outputs": [],
   "source": [
    "import numpy as np\n",
    "import matplotlib.pyplot as plt\n",
    "import scipy.stats as ss\n",
    "from itertools import product"
   ]
  },
  {
   "cell_type": "code",
   "execution_count": 79,
   "id": "ffa32ab0-3160-4a48-b42f-39cb04da183e",
   "metadata": {},
   "outputs": [],
   "source": [
    "# Price for zero coupon bond\n",
    "def ZCbond(F, r, t, T):\n",
    "    return F*np.exp(-r*(T-t))"
   ]
  },
  {
   "cell_type": "code",
   "execution_count": 81,
   "id": "53760734",
   "metadata": {},
   "outputs": [],
   "source": [
    "def rpoi(a, y, lam, T):\n",
    "    return np.exp(lam * T * (np.exp(a) - 1) - a * y)"
   ]
  },
  {
   "cell_type": "code",
   "execution_count": 211,
   "id": "44807329",
   "metadata": {},
   "outputs": [],
   "source": [
    "# MC with gamma distribution for the size of losses\n",
    "def naive_MC_gamma(nr = 20000,lam=35,D=9000000000,T=1, k=1, th=163500000):\n",
    "    h = []\n",
    "    poissons = np.random.poisson(lam=lam*T, size=nr)\n",
    "    for i in range(nr):\n",
    "        x = np.sum(np.random.gamma(shape=k, scale=th, size=poissons[i]))\n",
    "        h.append(int(x>D))\n",
    "    return np.cumsum(h)/np.arange(1,nr+1)"
   ]
  },
  {
   "cell_type": "code",
   "execution_count": 213,
   "id": "c7547159",
   "metadata": {},
   "outputs": [],
   "source": [
    "def rgamma(a, y, k, th, n):\n",
    "    return (1-th*a)**(-k*n) / np.exp(a * y)"
   ]
  },
  {
   "cell_type": "code",
   "execution_count": 215,
   "id": "a7cd3ded",
   "metadata": {},
   "outputs": [
    {
     "name": "stdout",
     "output_type": "stream",
     "text": [
      "Total pairs of test: 30\n",
      "    c |     d |   Mean Estimate |   Variance\n",
      "---------------------------------------------\n",
      " 0.75 | 1.00 |         0.01480 |  0.0004901\n",
      " 0.75 | 1.50 |         0.02692 |  2.1532766\n",
      " 0.75 | 2.00 |         0.00760 |  0.3398118\n",
      " 0.75 | 2.50 |         0.00118 |  0.0103123\n",
      " 0.75 | 3.00 |         0.00006 |  0.0000103\n",
      " 0.80 | 1.00 |         0.01474 |  0.0003222\n",
      " 0.80 | 1.50 |         0.01428 |  0.0271501\n",
      " 0.80 | 2.00 |         0.00656 |  0.0499146\n",
      " 0.80 | 2.50 |         0.00180 |  0.0099837\n",
      " 0.80 | 3.00 |         0.00001 |  0.0000004\n",
      " 0.85 | 1.00 |         0.01463 |  0.0004981\n",
      " 0.85 | 1.50 |         0.01425 |  0.0080998\n",
      " 0.85 | 2.00 |         0.02605 |  1.5128946\n",
      " 0.85 | 2.50 |         0.00065 |  0.0021274\n",
      " 0.85 | 3.00 |         0.00230 |  0.0334267\n",
      " 0.90 | 1.00 |         0.01488 |  0.0015769\n",
      " 0.90 | 1.50 |         0.01477 |  0.0039198\n",
      " 0.90 | 2.00 |         0.00971 |  0.0564095\n",
      " 0.90 | 2.50 |         0.01860 |  2.7338527\n",
      " 0.90 | 3.00 |         0.00004 |  0.0000055\n",
      " 0.95 | 1.00 |         0.01378 |  0.0033173\n",
      " 0.95 | 1.50 |         0.01442 |  0.0018745\n",
      " 0.95 | 2.00 |         0.00873 |  0.0358448\n",
      " 0.95 | 2.50 |         0.03100 |  7.5658870\n",
      " 0.95 | 3.00 |         0.00019 |  0.0001739\n",
      " 1.00 | 1.50 |         0.01503 |  0.0021522\n",
      " 1.00 | 2.00 |         0.01188 |  0.0690670\n",
      " 1.00 | 2.50 |         0.08465 | 63.5614981\n",
      " 1.00 | 3.00 |         0.00015 |  0.0001040\n"
     ]
    }
   ],
   "source": [
    "# Lognormal parameters for the target distribution\n",
    "c_values = np.linspace(0.75, 1, 6)\n",
    "d_values = np.linspace(1, 2.5, 4)  \n",
    "\n",
    "import numpy as np\n",
    "\n",
    "def MC_IS_gamma_poi(nr=20000, lam=35,D=9000000000,T=1, k=1, th=163500000, c=0.5, d=2):\n",
    "    # Initial variables\n",
    "    a_poi = np.log(c*D / (lam * T * k * th))\n",
    "    poisson_means = lam * T * np.exp(a_poi)\n",
    "    a_gamma = 1/th - (k * poisson_means)/(d*D)\n",
    "    new_th = 1/(1/th - a_gamma)\n",
    "\n",
    "    # Preallocate memory for cumulative sums\n",
    "    h = np.zeros(nr)\n",
    "    r_poi = np.zeros(nr)\n",
    "    r_gamma = np.zeros(nr)\n",
    "    \n",
    "    # Loop over the number of simulations\n",
    "    for i in range(nr):\n",
    "        # Generate Poisson-distributed count\n",
    "        poissons = np.random.poisson(lam=poisson_means)\n",
    "\n",
    "        # Generate the exponential random variables for this count\n",
    "        # Directly sum them without creating large intermediate arrays\n",
    "        x = np.sum(np.random.gamma(shape=k, scale=new_th, size=poissons))\n",
    "\n",
    "        # Compute h and r for this simulation\n",
    "        h[i] = int(x > D)\n",
    "        r_poi[i] = rpoi(a_poi, poissons, lam, T)\n",
    "        r_gamma[i] = rgamma(a_gamma, x, k, th, poissons)\n",
    "\n",
    "    # Compute weighted values\n",
    "    weighted_values = h * r_poi * r_gamma\n",
    "    \n",
    "    # Compute mean estimate\n",
    "    mean_estimate = np.mean(weighted_values)\n",
    "    \n",
    "    # Compute variance of the estimator\n",
    "    variance = np.var(weighted_values)/2\n",
    "\n",
    "    return mean_estimate, variance\n",
    "\n",
    "results = []\n",
    "\n",
    "parameter_grid = list(product(c_values, d_values))\n",
    "\n",
    "print(f\"Total pairs of test: {len(parameter_grid)}\")\n",
    "\n",
    "for c,d in parameter_grid:\n",
    "    \n",
    "    if c < d:\n",
    "        # Compute mean and variance of the estimator\n",
    "        mean_estimate, variance = MC_IS_gamma_poi(nr=20000, lam=35,D=9000000000,T=1, k=1, th=163500000, c=c, d=d)\n",
    "    \n",
    "        results.append((c, d, mean_estimate, variance))\n",
    "\n",
    "# Display results\n",
    "print(f\"{'c':>5} | {'d':>5} | {'Mean Estimate':>15} | {'Variance':>10}\")\n",
    "print(\"-\" * 45)\n",
    "for c, d, mean_estimate, variance in results:\n",
    "    print(f\"{c:>5.2f} |{d:>5.2f} | {mean_estimate:>15.5f} | {variance:>10.7f}\")"
   ]
  },
  {
   "cell_type": "code",
   "execution_count": 217,
   "id": "127527b0",
   "metadata": {},
   "outputs": [],
   "source": [
    "# Importance sampling for default probability\n",
    "def MC_IS_gamma_poi(nr=20000, lam=35,D=9000000000,T=1, k=1, th=163500000):\n",
    "    # Initial variables\n",
    "    a_poi = np.log(0.8*D / (lam * T * k * th))\n",
    "    poisson_means = lam * T * np.exp(a_poi)\n",
    "    a_gamma = 1/th - (k * poisson_means)/D\n",
    "    new_th = 1/(1/th - a_gamma)\n",
    "\n",
    "    # Preallocate memory for cumulative sums\n",
    "    h = np.zeros(nr)\n",
    "    r_poi = np.zeros(nr)\n",
    "    r_gamma = np.zeros(nr)\n",
    "    \n",
    "    # Loop over the number of simulations\n",
    "    for i in range(nr):\n",
    "        # Generate Poisson-distributed count\n",
    "        poissons = np.random.poisson(lam=poisson_means)\n",
    "\n",
    "        # Generate the exponential random variables for this count\n",
    "        # Directly sum them without creating large intermediate arrays\n",
    "        x = np.sum(np.random.gamma(shape=k, scale=new_th, size=poissons))\n",
    "\n",
    "        # Compute h and r for this simulation\n",
    "        h[i] = int(x > D)\n",
    "        r_poi[i] = rpoi(a_poi, poissons, lam, T)\n",
    "        r_gamma[i] = rgamma(a_gamma, x, k, th, poissons)\n",
    "\n",
    "    # Calculate cumulative sum and return the average at each step\n",
    "    cumulative_sum = np.cumsum(h * r_poi * r_gamma)\n",
    "    cumulative_avg = cumulative_sum / np.arange(1, nr + 1)\n",
    "\n",
    "    return cumulative_avg"
   ]
  },
  {
   "cell_type": "code",
   "execution_count": 227,
   "id": "f26a44f1",
   "metadata": {},
   "outputs": [
    {
     "name": "stderr",
     "output_type": "stream",
     "text": [
      "The PostScript backend does not support transparency; partially transparent artists will be rendered opaque.\n"
     ]
    },
    {
     "data": {
      "image/png": "[encoded data removed]",
      "text/plain": [
       "<Figure size 640x480 with 1 Axes>"
      ]
     },
     "metadata": {},
     "output_type": "display_data"
    }
   ],
   "source": [
    "plt.plot(naive_MC_gamma(),color = \"blue\",label = \"Plain MC\")\n",
    "plt.plot(MC_IS_gamma_poi(),color = \"orange\",label = \"MC with IS\")\n",
    "plt.title(\"Importance sampling with gamma distributed losses\")\n",
    "plt.ylim([0,0.03])\n",
    "plt.xlabel(\"Iterations\")\n",
    "plt.ylabel(\"Default probability\")\n",
    "plt.legend()\n",
    "plt.grid()\n",
    "plt.savefig('IS_gamma.eps', format='eps')\n",
    "plt.show()"
   ]
  },
  {
   "cell_type": "code",
   "execution_count": null,
   "id": "31c61977",
   "metadata": {},
   "outputs": [],
   "source": []
  },
  {
   "cell_type": "code",
   "execution_count": null,
   "id": "0150385e-08e1-4594-b9ca-68ffd484645e",
   "metadata": {},
   "outputs": [],
   "source": []
  },
  {
   "cell_type": "code",
   "execution_count": null,
   "id": "8bc8fc4f-fbb1-429e-90ce-75841c496f8b",
   "metadata": {},
   "outputs": [],
   "source": []
  }
 ],
 "metadata": {
  "kernelspec": {
   "display_name": "Python 3 (ipykernel)",
   "language": "python",
   "name": "python3"
  },
  "language_info": {
   "codemirror_mode": {
    "name": "ipython",
    "version": 3
   },
   "file_extension": ".py",
   "mimetype": "text/x-python",
   "name": "python",
   "nbconvert_exporter": "python",
   "pygments_lexer": "ipython3",
   "version": "3.12.4"
  }
 },
 "nbformat": 4,
 "nbformat_minor": 5
}
