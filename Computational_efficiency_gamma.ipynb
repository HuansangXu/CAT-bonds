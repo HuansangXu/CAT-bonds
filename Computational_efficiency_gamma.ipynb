{
 "cells": [
  {
   "cell_type": "code",
   "execution_count": 2,
   "id": "fbeb9b4a-324f-45bc-830f-aba080c7a961",
   "metadata": {},
   "outputs": [],
   "source": [
    "import numpy as np\n",
    "import matplotlib.pyplot as plt\n",
    "import scipy.stats as ss\n",
    "import tensorflow as tf\n",
    "import joblib\n",
    "import time"
   ]
  },
  {
   "cell_type": "code",
   "execution_count": 3,
   "id": "edea99c9",
   "metadata": {},
   "outputs": [],
   "source": [
    "# Price for zero-coupon bond with stochastic interest rate under Vasicek's model\n",
    "def ZC_Vasicek(F, r, kappa, theta, sigma, t, T):\n",
    "    \n",
    "    delta_T = T - t\n",
    "    \n",
    "    B = (1 - np.exp(-kappa * delta_T)) / kappa\n",
    "    \n",
    "    A = np.exp((theta - (sigma**2) / (2 * kappa**2)) * (B - delta_T) - (sigma**2 / (4 * kappa)) * B**2)\n",
    "    \n",
    "    bond_price = F * A * np.exp(-B * r)\n",
    "    \n",
    "    return bond_price"
   ]
  },
  {
   "cell_type": "code",
   "execution_count": 4,
   "id": "09444e7f",
   "metadata": {},
   "outputs": [],
   "source": [
    "def rpoi(a, y, lam, t, T):\n",
    "    return np.exp(lam * (T-t) * (np.exp(a) - 1) - a * y)\n",
    "\n",
    "def rgamma(a, y, k, th, n):\n",
    "    return (1-th*a)**(-k*n) / np.exp(a * y)"
   ]
  },
  {
   "cell_type": "code",
   "execution_count": 5,
   "id": "b3a7d9d2-e46b-44b1-8f5a-6fdafbbfa0e9",
   "metadata": {},
   "outputs": [],
   "source": [
    "# MC with gamma distribution for the size of losses\n",
    "def naive_MC_gamma(nr, lam, D, k, th, T):\n",
    "    h = []\n",
    "    poissons = np.random.poisson(lam=lam*T, size=nr)\n",
    "    for i in range(nr):\n",
    "        x = np.sum(np.random.gamma(shape=k, scale=th, size=poissons[i]))\n",
    "        h.append(int(x>D))\n",
    "    return np.cumsum(h)/np.arange(1,nr+1)"
   ]
  },
  {
   "cell_type": "code",
   "execution_count": 6,
   "id": "e7793a02",
   "metadata": {},
   "outputs": [],
   "source": [
    "# Importance sampling for default probability\n",
    "def MC_IS_gamma_poi(nr, lam, D, k, th, t, T):\n",
    "    # Initial variables\n",
    "    a_poi = np.log(D / (lam * (T-t) * k * th))/2\n",
    "    poisson_means = lam * (T-t) * np.exp(a_poi)\n",
    "    a_gamma = 1/th - (k * poisson_means)/D\n",
    "    new_th = 1/(1/th - a_gamma)\n",
    "\n",
    "    # Preallocate memory for cumulative sums\n",
    "    h = np.zeros(nr)\n",
    "    r_poi = np.zeros(nr)\n",
    "    r_gamma = np.zeros(nr)\n",
    "    \n",
    "    # Loop over the number of simulations\n",
    "    for i in range(nr):\n",
    "        # Generate Poisson-distributed count\n",
    "        loss_n = np.random.poisson(lam=poisson_means)\n",
    "\n",
    "        # Generate the exponential random variables for this count\n",
    "        # Directly sum them without creating large intermediate arrays\n",
    "        x = np.sum(np.random.gamma(shape=k, scale=new_th, size=loss_n))\n",
    "\n",
    "        # Compute h and r for this simulation\n",
    "        h[i] = int(x > D)\n",
    "        r_poi[i] = rpoi(a_poi, loss_n, lam, t, T)\n",
    "        r_gamma[i] = rgamma(a_gamma, x, k, th, loss_n)\n",
    "\n",
    "    # Calculate cumulative sum and return the average at each step\n",
    "    cumulative_sum = np.cumsum(h * r_poi * r_gamma)\n",
    "    cumulative_avg = cumulative_sum / np.arange(1, nr + 1)\n",
    "\n",
    "    return cumulative_avg"
   ]
  },
  {
   "cell_type": "code",
   "execution_count": 7,
   "id": "7d7d53f7",
   "metadata": {},
   "outputs": [],
   "source": [
    "# Zero-coupon CAT bond pricing under IS\n",
    "def IS_CAT_ZC_Vasicek(F, r, kappa, theta, sigma, D, lam, k, th, nr, t, T):\n",
    "    return ZC_Vasicek(F, r, kappa, theta, sigma, t, T)*(1-MC_IS_gamma_poi(nr, lam, D, k, th, t, T)[-1])"
   ]
  },
  {
   "cell_type": "code",
   "execution_count": 8,
   "id": "31c61977",
   "metadata": {},
   "outputs": [],
   "source": [
    "# CAT bond with coupons pricing\n",
    "def CAT_C_Vasicek(D, lam, N, T):\n",
    "    c_sum = 0\n",
    "    dt = T/N\n",
    "\n",
    "    for coupon_count in range (N):\n",
    "        if lam * (coupon_count+1) * dt * k * th < D:\n",
    "            c_sum += ZC_Vasicek(F*c, r, kappa, theta, sigma, t, T=(coupon_count+1)*dt)*(1-MC_IS_gamma_poi(nr, lam, D, k, th, t, T=(coupon_count+1)*dt)[-1])\n",
    "        else:  # Case: N == 0 and lam * T * k * th > D\n",
    "            c_sum += ZC_Vasicek(F*c, r, kappa, theta, sigma, t, T=(coupon_count+1)*dt)*(1-naive_MC_gamma(nr, lam, D, k, th, T=(coupon_count+1)*dt)[-1])\n",
    "    \n",
    "    if lam * T * k * th < D:\n",
    "        c_sum = c_sum + ZC_Vasicek(F, r, kappa, theta, sigma, t, T)*(1-MC_IS_gamma_poi(nr, lam, D, k, th, t, T)[-1])\n",
    "    else:  # Case: N == 0 and lam * T * k * th > D\n",
    "        c_sum = c_sum + ZC_Vasicek(F, r, kappa, theta, sigma, t, T)*(1-naive_MC_gamma(nr, lam, D, k, th, T)[-1])\n",
    "    \n",
    "    return c_sum"
   ]
  },
  {
   "cell_type": "code",
   "execution_count": 16,
   "id": "d5bac6cf",
   "metadata": {},
   "outputs": [
    {
     "name": "stdout",
     "output_type": "stream",
     "text": [
      "Prediction: 1.053338143812643\n",
      "Time taken for prediction: 132.809459 seconds\n"
     ]
    }
   ],
   "source": [
    "# Parameter ranges\n",
    "F = 1  # Fixed face value\n",
    "t = 0     # Fixed initial time\n",
    "k = 1     # Fixed Gamma shape\n",
    "th = 163500000    # Fixed Gamma scale\n",
    "c=0.05\n",
    "r=0.03\n",
    "kappa=0.2\n",
    "theta=0.03\n",
    "sigma=0.02\n",
    "nr = 10000\n",
    "\n",
    "D=9*1000000000\n",
    "lam=35\n",
    "N=2\n",
    "T=1\n",
    "\n",
    "num_runs = 1000  # Number of iterations\n",
    "results = []  # Store function outputs\n",
    "\n",
    "start_time = time.time()  # Start timing\n",
    "\n",
    "for _ in range(num_runs):\n",
    "    result = CAT_C_Vasicek(D, lam, N, T)  # Run the function\n",
    "    results.append(result)  # Store the result\n",
    "\n",
    "end_time = time.time()  # End timing\n",
    "\n",
    "# Compute statistics\n",
    "total_time_MC = end_time - start_time  # Total execution time\n",
    "prediction_MC = np.mean(results)  # Mean of the function outputs\n",
    "\n",
    "# Print results\n",
    "print(\"Prediction:\", prediction_MC)\n",
    "print(f\"Time taken for prediction: {total_time_MC:.6f} seconds\")"
   ]
  },
  {
   "cell_type": "code",
   "execution_count": 17,
   "id": "d5d9798b",
   "metadata": {},
   "outputs": [
    {
     "name": "stderr",
     "output_type": "stream",
     "text": [
      "WARNING:absl:Compiled the loaded model, but the compiled metrics have yet to be built. `model.compile_metrics` will be empty until you train or evaluate the model.\n"
     ]
    },
    {
     "name": "stdout",
     "output_type": "stream",
     "text": [
      "\u001b[1m32/32\u001b[0m \u001b[32m━━━━━━━━━━━━━━━━━━━━\u001b[0m\u001b[37m\u001b[0m \u001b[1m0s\u001b[0m 1ms/step \n",
      "Prediction: 1.0533469\n",
      "Time taken for prediction: 0.109503 seconds\n"
     ]
    },
    {
     "name": "stderr",
     "output_type": "stream",
     "text": [
      "/opt/anaconda3/lib/python3.12/site-packages/sklearn/base.py:493: UserWarning: X does not have valid feature names, but StandardScaler was fitted with feature names\n",
      "  warnings.warn(\n"
     ]
    }
   ],
   "source": [
    "# Define custom objects dictionary\n",
    "custom_objects = {\"mse\": tf.keras.losses.MeanSquaredError()}\n",
    "\n",
    "# Load the saved model\n",
    "model_gamma = tf.keras.models.load_model(\"best_NN_gamma.h5\", custom_objects=custom_objects)\n",
    "\n",
    "# Example input: Replace this with the actual input shape expected by model\n",
    "new_input = np.array([[0.03, 35, 9*1000000000, 2, 1]])  # Modify based on model's input shape\n",
    "\n",
    "# Load the fitted scaler\n",
    "scaler = joblib.load(\"scaler_gamma.pkl\")\n",
    "\n",
    "# Apply the same scaling\n",
    "new_input_scaled = scaler.transform(new_input)\n",
    "\n",
    "new_input_scaled_batch = np.tile(new_input_scaled, (num_runs, 1))  # Duplicate input for batching\n",
    "start_time = time.time()\n",
    "results = model_gamma.predict(new_input_scaled_batch)  # Single batch prediction\n",
    "end_time = time.time()\n",
    "\n",
    "# Compute statistics\n",
    "total_time_log = end_time - start_time  # Total execution time\n",
    "prediction_log = np.mean(results)  # Mean of the function outputs\n",
    "\n",
    "# Print results\n",
    "print(\"Prediction:\", prediction_log)\n",
    "print(f\"Time taken for prediction: {total_time_log:.6f} seconds\")"
   ]
  },
  {
   "cell_type": "code",
   "execution_count": 20,
   "id": "d397872f-ed3b-414d-a3db-8b5f96d0232c",
   "metadata": {},
   "outputs": [
    {
     "name": "stdout",
     "output_type": "stream",
     "text": [
      "\u001b[1m32/32\u001b[0m \u001b[32m━━━━━━━━━━━━━━━━━━━━\u001b[0m\u001b[37m\u001b[0m \u001b[1m0s\u001b[0m 542us/step\n",
      "Prediction: 1.0533469\n",
      "Time taken for prediction: 0.040404 seconds\n"
     ]
    },
    {
     "name": "stderr",
     "output_type": "stream",
     "text": [
      "/opt/anaconda3/lib/python3.12/site-packages/sklearn/base.py:493: UserWarning: X does not have valid feature names, but StandardScaler was fitted with feature names\n",
      "  warnings.warn(\n"
     ]
    }
   ],
   "source": [
    "# Example input: Replace this with the actual input shape expected by model\n",
    "new_input = np.array([[0.03, 35, 9*1000000000, 2, 1]])  # Modify based on model's input shape\n",
    "\n",
    "# Apply the same scaling\n",
    "new_input_scaled = scaler.transform(new_input)\n",
    "\n",
    "new_input_scaled_batch = np.tile(new_input_scaled, (num_runs, 1))  # Duplicate input for batching\n",
    "start_time = time.time()\n",
    "results = model_gamma.predict(new_input_scaled_batch)  # Single batch prediction\n",
    "end_time = time.time()\n",
    "\n",
    "# Compute statistics\n",
    "total_time_log = end_time - start_time  # Total execution time\n",
    "prediction_log = np.mean(results)  # Mean of the function outputs\n",
    "\n",
    "# Print results\n",
    "print(\"Prediction:\", prediction_log)\n",
    "print(f\"Time taken for prediction: {total_time_log:.6f} seconds\")"
   ]
  },
  {
   "cell_type": "code",
   "execution_count": 22,
   "id": "4c560a26",
   "metadata": {},
   "outputs": [
    {
     "name": "stdout",
     "output_type": "stream",
     "text": [
      "Prediction: 1.1518498323393265\n",
      "Time taken for prediction: 220.298800 seconds\n"
     ]
    }
   ],
   "source": [
    "N=4\n",
    "T=1\n",
    "\n",
    "results = []  # Store function outputs\n",
    "\n",
    "start_time = time.time()  # Start timing\n",
    "\n",
    "for _ in range(num_runs):\n",
    "    result = CAT_C_Vasicek(D, lam, N, T)  # Run the function\n",
    "    results.append(result)  # Store the result\n",
    "\n",
    "end_time = time.time()  # End timing\n",
    "\n",
    "# Compute statistics\n",
    "total_time_MC = end_time - start_time  # Total execution time\n",
    "prediction_MC = np.mean(results)  # Mean of the function outputs\n",
    "\n",
    "# Print results\n",
    "print(\"Prediction:\", prediction_MC)\n",
    "print(f\"Time taken for prediction: {total_time_MC:.6f} seconds\")"
   ]
  },
  {
   "cell_type": "code",
   "execution_count": 23,
   "id": "3a25a8cb",
   "metadata": {},
   "outputs": [
    {
     "name": "stdout",
     "output_type": "stream",
     "text": [
      "\u001b[1m32/32\u001b[0m \u001b[32m━━━━━━━━━━━━━━━━━━━━\u001b[0m\u001b[37m\u001b[0m \u001b[1m0s\u001b[0m 608us/step\n",
      "Prediction: 1.150935\n",
      "Time taken for prediction: 0.042986 seconds\n"
     ]
    },
    {
     "name": "stderr",
     "output_type": "stream",
     "text": [
      "/opt/anaconda3/lib/python3.12/site-packages/sklearn/base.py:493: UserWarning: X does not have valid feature names, but StandardScaler was fitted with feature names\n",
      "  warnings.warn(\n"
     ]
    }
   ],
   "source": [
    "# Example input: Replace this with the actual input shape expected by model\n",
    "new_input = np.array([[0.03, 35, 9*1000000000, 4, 1]])  # Modify based on model's input shape\n",
    "\n",
    "# Apply the same scaling\n",
    "new_input_scaled = scaler.transform(new_input)\n",
    "\n",
    "new_input_scaled_batch = np.tile(new_input_scaled, (num_runs, 1))  # Duplicate input for batching\n",
    "start_time = time.time()\n",
    "results = model_gamma.predict(new_input_scaled_batch)  # Single batch prediction\n",
    "end_time = time.time()\n",
    "\n",
    "# Compute statistics\n",
    "total_time_log = end_time - start_time  # Total execution time\n",
    "prediction_log = np.mean(results)  # Mean of the function outputs\n",
    "\n",
    "# Print results\n",
    "print(\"Prediction:\", prediction_log)\n",
    "print(f\"Time taken for prediction: {total_time_log:.6f} seconds\")"
   ]
  },
  {
   "cell_type": "code",
   "execution_count": 24,
   "id": "7f4388f2",
   "metadata": {},
   "outputs": [
    {
     "name": "stdout",
     "output_type": "stream",
     "text": [
      "Prediction: 0.37830807636013103\n",
      "Time taken for prediction: 342.129541 seconds\n"
     ]
    }
   ],
   "source": [
    "N=8\n",
    "T=2\n",
    "\n",
    "results = []  # Store function outputs\n",
    "\n",
    "start_time = time.time()  # Start timing\n",
    "\n",
    "for _ in range(num_runs):\n",
    "    result = CAT_C_Vasicek(D, lam, N, T)  # Run the function\n",
    "    results.append(result)  # Store the result\n",
    "\n",
    "end_time = time.time()  # End timing\n",
    "\n",
    "# Compute statistics\n",
    "total_time_MC = end_time - start_time  # Total execution time\n",
    "prediction_MC = np.mean(results)  # Mean of the function outputs\n",
    "\n",
    "# Print results\n",
    "print(\"Prediction:\", prediction_MC)\n",
    "print(f\"Time taken for prediction: {total_time_MC:.6f} seconds\")"
   ]
  },
  {
   "cell_type": "code",
   "execution_count": 25,
   "id": "bda2dd11",
   "metadata": {},
   "outputs": [
    {
     "name": "stdout",
     "output_type": "stream",
     "text": [
      "\u001b[1m32/32\u001b[0m \u001b[32m━━━━━━━━━━━━━━━━━━━━\u001b[0m\u001b[37m\u001b[0m \u001b[1m0s\u001b[0m 450us/step\n",
      "Prediction: 0.38236773\n",
      "Time taken for prediction: 0.032882 seconds\n"
     ]
    },
    {
     "name": "stderr",
     "output_type": "stream",
     "text": [
      "/opt/anaconda3/lib/python3.12/site-packages/sklearn/base.py:493: UserWarning: X does not have valid feature names, but StandardScaler was fitted with feature names\n",
      "  warnings.warn(\n"
     ]
    }
   ],
   "source": [
    "# Example input: Replace this with the actual input shape expected by model\n",
    "new_input = np.array([[0.03, 35, 9*1000000000, 8, 2]])  # Modify based on model's input shape\n",
    "\n",
    "# Apply the same scaling\n",
    "new_input_scaled = scaler.transform(new_input)\n",
    "\n",
    "new_input_scaled_batch = np.tile(new_input_scaled, (num_runs, 1))  # Duplicate input for batching\n",
    "start_time = time.time()\n",
    "results = model_gamma.predict(new_input_scaled_batch)  # Single batch prediction\n",
    "end_time = time.time()\n",
    "\n",
    "# Compute statistics\n",
    "total_time_log = end_time - start_time  # Total execution time\n",
    "prediction_log = np.mean(results)  # Mean of the function outputs\n",
    "\n",
    "# Print results\n",
    "print(\"Prediction:\", prediction_log)\n",
    "print(f\"Time taken for prediction: {total_time_log:.6f} seconds\")"
   ]
  },
  {
   "cell_type": "code",
   "execution_count": 26,
   "id": "4fd23f14",
   "metadata": {},
   "outputs": [
    {
     "name": "stdout",
     "output_type": "stream",
     "text": [
      "Prediction: 0.5330722854755693\n",
      "Time taken for prediction: 438.201514 seconds\n"
     ]
    }
   ],
   "source": [
    "N=12\n",
    "T=2\n",
    "\n",
    "results = []  # Store function outputs\n",
    "\n",
    "start_time = time.time()  # Start timing\n",
    "\n",
    "for _ in range(num_runs):\n",
    "    result = CAT_C_Vasicek(D, lam, N, T)  # Run the function\n",
    "    results.append(result)  # Store the result\n",
    "\n",
    "end_time = time.time()  # End timing\n",
    "\n",
    "# Compute statistics\n",
    "total_time_MC = end_time - start_time  # Total execution time\n",
    "prediction_MC = np.mean(results)  # Mean of the function outputs\n",
    "\n",
    "# Print results\n",
    "print(\"Prediction:\", prediction_MC)\n",
    "print(f\"Time taken for prediction: {total_time_MC:.6f} seconds\")"
   ]
  },
  {
   "cell_type": "code",
   "execution_count": 27,
   "id": "826e5830",
   "metadata": {},
   "outputs": [
    {
     "name": "stdout",
     "output_type": "stream",
     "text": [
      "\u001b[1m32/32\u001b[0m \u001b[32m━━━━━━━━━━━━━━━━━━━━\u001b[0m\u001b[37m\u001b[0m \u001b[1m0s\u001b[0m 413us/step\n",
      "Prediction: 0.5309458\n",
      "Time taken for prediction: 0.031105 seconds\n"
     ]
    },
    {
     "name": "stderr",
     "output_type": "stream",
     "text": [
      "/opt/anaconda3/lib/python3.12/site-packages/sklearn/base.py:493: UserWarning: X does not have valid feature names, but StandardScaler was fitted with feature names\n",
      "  warnings.warn(\n"
     ]
    }
   ],
   "source": [
    "# Example input: Replace this with the actual input shape expected by model\n",
    "new_input = np.array([[0.03, 35, 9*1000000000, 12, 2]])  # Modify based on model's input shape\n",
    "\n",
    "# Apply the same scaling\n",
    "new_input_scaled = scaler.transform(new_input)\n",
    "\n",
    "new_input_scaled_batch = np.tile(new_input_scaled, (num_runs, 1))  # Duplicate input for batching\n",
    "start_time = time.time()\n",
    "results = model_gamma.predict(new_input_scaled_batch)  # Single batch prediction\n",
    "end_time = time.time()\n",
    "\n",
    "# Compute statistics\n",
    "total_time_log = end_time - start_time  # Total execution time\n",
    "prediction_log = np.mean(results)  # Mean of the function outputs\n",
    "\n",
    "# Print results\n",
    "print(\"Prediction:\", prediction_log)\n",
    "print(f\"Time taken for prediction: {total_time_log:.6f} seconds\")"
   ]
  },
  {
   "cell_type": "code",
   "execution_count": null,
   "id": "96cada47",
   "metadata": {},
   "outputs": [],
   "source": []
  },
  {
   "cell_type": "code",
   "execution_count": null,
   "id": "bd09f1ae",
   "metadata": {},
   "outputs": [],
   "source": []
  },
  {
   "cell_type": "code",
   "execution_count": null,
   "id": "063b24b4",
   "metadata": {},
   "outputs": [],
   "source": []
  },
  {
   "cell_type": "code",
   "execution_count": null,
   "id": "1b569314",
   "metadata": {},
   "outputs": [],
   "source": []
  }
 ],
 "metadata": {
  "kernelspec": {
   "display_name": "Python 3 (ipykernel)",
   "language": "python",
   "name": "python3"
  },
  "language_info": {
   "codemirror_mode": {
    "name": "ipython",
    "version": 3
   },
   "file_extension": ".py",
   "mimetype": "text/x-python",
   "name": "python",
   "nbconvert_exporter": "python",
   "pygments_lexer": "ipython3",
   "version": "3.12.4"
  }
 },
 "nbformat": 4,
 "nbformat_minor": 5
}
